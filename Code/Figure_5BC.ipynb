{
 "cells": [
  {
   "cell_type": "markdown",
   "id": "789314fb-8786-4a22-92d7-1ed5380d2c7c",
   "metadata": {},
   "source": [
    "# Figure 5B Performance Bar Graph"
   ]
  },
  {
   "cell_type": "code",
   "execution_count": null,
   "id": "627fec4b-b986-4828-9417-15a924d516a0",
   "metadata": {},
   "outputs": [],
   "source": [
    "from sklearn.model_selection import train_test_split, cross_validate\n",
    "from sklearn.ensemble import RandomForestClassifier\n",
    "from sklearn.metrics import roc_curve,auc\n",
    "from sklearn.metrics import roc_auc_score\n",
    "from sklearn.multiclass import OneVsRestClassifier\n",
    "from sklearn.metrics import precision_recall_curve\n",
    "from sklearn.metrics import average_precision_score\n",
    "from sklearn.metrics import accuracy_score, f1_score, precision_score, recall_score, classification_report, confusion_matrix\n",
    "from sklearn.metrics import precision_recall_fscore_support as score\n",
    "from sklearn.linear_model import LogisticRegression\n",
    "from sklearn.neural_network import MLPClassifier\n",
    "from sklearn.inspection import permutation_importance\n",
    "from sklearn.metrics import confusion_matrix\n",
    "from sklearn.metrics import classification_report\n",
    "from collections import Counter\n",
    "import matplotlib.pyplot as plt\n",
    "import numpy as np\n",
    "import pandas as pd\n",
    "import sklearn\n",
    "import sklearn.impute\n",
    "import sklearn.ensemble\n",
    "import scipy.stats\n",
    "import matplotlib as mpl\n",
    "import seaborn as sns\n",
    "import xgboost as xgb\n",
    "import warnings\n",
    "warnings.filterwarnings('ignore')\n",
    "\n",
    "mpl.rcParams['figure.dpi'] = 250\n",
    "pd.set_option('display.max_rows', 50)\n",
    "\n",
    "#load dataset acquired by performing gene set variation analysis of each cell within the 68k PBMC dataset\n",
    "gsets_df = pd.read_csv(\"/.mounts/labs/reimandlab/private/users/mbayati/MBP1413/batch job gsva/ES_var_C7_68k.tsv\", sep=\"\\t\", header=0)"
   ]
  },
  {
   "cell_type": "code",
   "execution_count": null,
   "id": "0d51ccc6-b70e-40cf-8108-132bc31d29a8",
   "metadata": {},
   "outputs": [],
   "source": [
    "#split data from class labels.\n",
    "X = gsets_df.iloc[:,0:3006]\n",
    "Y = gsets_df.cell_type\n",
    "\n",
    "X_train, X_test, Y_train, Y_test = train_test_split(X, Y, test_size = 0.2, train_size = 0.8)"
   ]
  },
  {
   "cell_type": "code",
   "execution_count": null,
   "id": "a3159b1e-ddbb-4581-be65-18a081347798",
   "metadata": {},
   "outputs": [],
   "source": [
    "logistic_performance = {\"precision\": [],\"recall\" : [], \"f1\" : [], \"accuracy\" : []}\n",
    "logistic = LogisticRegression(solver='sag', max_iter=1000, multi_class = \"multinomial\")\n",
    "logistic.fit(X_train,Y_train)\n",
    "logistic_pred = logistic.predict(X_test)\n",
    "logistic_performance[\"precision\"].append(precision_score(Y_test, logistic_pred, average=\"macro\"))\n",
    "logistic_performance[\"recall\"].append(recall_score(Y_test, logistic_pred, average=\"macro\"))\n",
    "logistic_performance[\"f1\"].append(f1_score(Y_test, logistic_pred, average=\"macro\"))\n",
    "logistic_performance[\"accuracy\"].append(accuracy_score(Y_test,logistic_pred))\n",
    "print(logistic_performance)"
   ]
  },
  {
   "cell_type": "code",
   "execution_count": null,
   "id": "e8b3646e-10f3-4b00-8986-9f4339d3c78e",
   "metadata": {},
   "outputs": [],
   "source": [
    "MLP_performance = {\"precision\": [],\"recall\" : [], \"f1\" : [], \"accuracy\" : []}\n",
    "MLP = MLPClassifier()\n",
    "MLP.fit(X_train,Y_train)\n",
    "mlp_pred = MLP.predict(X_test)\n",
    "MLP_performance[\"precision\"].append(precision_score(Y_test, mlp_pred, average=\"macro\"))\n",
    "MLP_performance[\"recall\"].append(recall_score(Y_test, mlp_pred, average=\"macro\"))\n",
    "MLP_performance[\"f1\"].append(f1_score(Y_test, mlp_pred, average=\"macro\"))\n",
    "MLP_performance[\"accuracy\"].append(accuracy_score(Y_test,mlp_pred))\n",
    "print(MLP_performance)"
   ]
  },
  {
   "cell_type": "code",
   "execution_count": null,
   "id": "9ff6df24-f9ad-4153-9e29-282781a45c0a",
   "metadata": {},
   "outputs": [],
   "source": [
    "rf_performance = {\"precision\": [],\"recall\" : [], \"f1\" : [], \"accuracy\" : []}\n",
    "forest = RandomForestClassifier(n_estimators = 500, criterion = \"gini\", max_features = \"sqrt\")\n",
    "forest.fit(X_train,Y_train)\n",
    "rf_pred = forest.predict(X_test)\n",
    "rf_performance[\"precision\"].append(precision_score(Y_test, rf_pred, average=\"macro\"))\n",
    "rf_performance[\"recall\"].append(recall_score(Y_test, rf_pred, average=\"macro\"))\n",
    "rf_performance[\"f1\"].append(f1_score(Y_test, rf_pred, average=\"macro\"))\n",
    "rf_performance[\"accuracy\"].append(accuracy_score(Y_test,rf_pred))\n",
    "print(rf_performance)"
   ]
  },
  {
   "cell_type": "code",
   "execution_count": null,
   "id": "34a8f568-595d-4196-b3db-baaf345c0ce2",
   "metadata": {},
   "outputs": [],
   "source": [
    "xg_performance = {\"precision\": [],\"recall\" : [], \"f1\" : [], \"accuracy\" : []}\n",
    "xg_cl = xgb.XGBClassifier(\n",
    "    objective=\"multi:softmax\",\n",
    "    num_class=10,\n",
    "    n_estimators=10,\n",
    "    max_depth=6,\n",
    "    learning_rate=0.3,\n",
    "    reg_lambda=1.0,\n",
    "    reg_alpha=0.0\n",
    ")\n",
    "xg_cl.fit(X_train,Y_train)\n",
    "xgb_pred = xg_cl.predict(X_test)\n",
    "xg_performance[\"precision\"].append(precision_score(Y_test, xgb_pred, average=\"macro\"))\n",
    "xg_performance[\"recall\"].append(recall_score(Y_test, xgb_pred, average=\"macro\"))\n",
    "xg_performance[\"f1\"].append(f1_score(Y_test, xgb_pred, average=\"macro\"))\n",
    "xg_performance[\"accuracy\"].append(accuracy_score(Y_test,xgb_pred))\n",
    "print(xg_performance)"
   ]
  },
  {
   "cell_type": "code",
   "execution_count": null,
   "id": "06cd887d-bc7f-4da7-b653-cbe578c65db8",
   "metadata": {},
   "outputs": [],
   "source": [
    "classification_df = pd.DataFrame({\"metric\": [\"Precision\",\"Recall\",\"F1\",\"Accuracy\"],\"logistic_mean\" : [np.mean(v) for k,v in logistic_performance.items()],\n",
    "                          \"MLP_mean\" : [np.mean(v) for k,v in MLP_performance.items()],\n",
    "                         \"random_forest_mean\" : [np.mean(v) for k,v in rf_performance.items()],\n",
    "                         \"xgb_mean\" : [np.mean(v) for k,v in xg_performance.items()]})\n",
    "print(classification_df)\n",
    "\n",
    "classification_df.to_csv(\"performance_figure5B_gsets.tsv\", sep='\\t')"
   ]
  },
  {
   "cell_type": "code",
   "execution_count": null,
   "id": "6a67bfba-7edf-46ad-9ecd-cd80c0e3d2a2",
   "metadata": {},
   "outputs": [],
   "source": [
    "gsets_four = pd.read_csv(\"performance_figure5B_gsets.tsv\", sep = \"\\t\", header = 0, index_col = 0)\n",
    "\n",
    "ind = np.arange(4)\n",
    "fig, ax = plt.subplots(figsize = (25, 10))\n",
    "\n",
    "log_bar = ax.bar(ind - 0.1, gsets_four.logistic_mean,alpha=1,width = 0.2,capsize = 10, color = '#66c2a5',align = 'center')\n",
    "mlp_bar = ax.bar(ind + 0.1 , gsets_four.MLP_mean,alpha=1, width = 0.2,capsize = 10, color = '#fc8d62', align = 'center')\n",
    "rf_bar = ax.bar(ind + 0.3, gsets_four.random_forest_mean,alpha=1, width = 0.2,capsize = 10, color = '#8da0cb',align = 'center')\n",
    "xgb_bar = ax.bar(ind + 0.5, gsets_four.xgb_mean, alpha=1, width = 0.2,capsize = 10, color = '#e78ac3', align = 'center')\n",
    "ax.set_ylabel(\"Model Performance\", size = 38)\n",
    "ax.set_ylim([0.60,1])\n",
    "ax.set_xlabel(\"Metric\", size = 38)\n",
    "ax.set_xticks(ind + 0.2,labels = gsets_four.metric)\n",
    "ax.set_xticklabels(gsets_four.metric,rotation = 0)\n",
    "ax.tick_params(axis='both', labelsize=32)\n",
    "ax.legend((log_bar[0], mlp_bar[0],rf_bar[0],xgb_bar[0]), ('Logistic Regression','MLP','Random Forest', 'XGB'),prop={'size': 22}, bbox_to_anchor=(1.23, 1), loc='upper right')\n",
    "ax.xaxis.grid(False)\n",
    "ax.grid(color='black', linestyle='-', linewidth=0.7)\n",
    "ax.patch.set_edgecolor('black')  \n",
    "ax.patch.set_linewidth('2')\n",
    "fig.suptitle('Cell classification using gene sets instead of genes', fontsize=38)\n",
    "ax.xaxis.labelpad = 20\n",
    "ax.yaxis.labelpad = 20\n",
    "vis = ax.get_figure()\n",
    "vis.savefig(\"fig5B_bargraph.pdf\", bbox_inches='tight')"
   ]
  },
  {
   "cell_type": "markdown",
   "id": "b1aeb5ca-fc9d-4836-b210-deab40862e5b",
   "metadata": {},
   "source": [
    "# Figure 5C Confusion Matrix"
   ]
  },
  {
   "cell_type": "code",
   "execution_count": null,
   "id": "70f24ff3-dbbf-48b9-9221-987d0b0dd7b4",
   "metadata": {},
   "outputs": [],
   "source": [
    "#The logistic regression was the best performing algorithm and as a result it was used to create this confusion matrix. \n",
    "matrix = confusion_matrix(Y_test,logistic_pred, labels=np.unique(logistic_pred))\n",
    "matrix = matrix/matrix.sum(axis=1, keepdims=True)*1\n",
    "df_matrix = pd.DataFrame(matrix)\n",
    "df_matrix.columns = np.unique(logistic_pred)\n",
    "df_matrix.index = np.unique(logistic_pred)\n",
    "\n",
    "sns.set(font_scale=0.65)\n",
    "ax = sns.heatmap(df_matrix,cmap =\"YlGnBu\",annot = True,vmin = 0, vmax = 1,linewidth=0.5,annot_kws={\"size\": 6})\n",
    "plt.show()\n",
    "vis = ax.get_figure()\n",
    "vis.savefig(\"Fig5C_confusionmtxgenesets.pdf\", bbox_inches='tight')"
   ]
  }
 ],
 "metadata": {
  "kernelspec": {
   "display_name": "Python [conda env:root]",
   "language": "python",
   "name": "conda-root-py"
  },
  "language_info": {
   "codemirror_mode": {
    "name": "ipython",
    "version": 3
   },
   "file_extension": ".py",
   "mimetype": "text/x-python",
   "name": "python",
   "nbconvert_exporter": "python",
   "pygments_lexer": "ipython3",
   "version": "3.8.8"
  }
 },
 "nbformat": 4,
 "nbformat_minor": 5
}
