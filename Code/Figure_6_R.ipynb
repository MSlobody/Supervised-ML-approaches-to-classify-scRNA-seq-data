{
 "cells": [
  {
   "cell_type": "markdown",
   "id": "23993beb-3bd7-4d6b-8452-299e8512d6a3",
   "metadata": {},
   "source": [
    "# Figure 6 Single-Cell Decomposition using Hierarchical Autoencoder (scDHA)"
   ]
  },
  {
   "cell_type": "markdown",
   "id": "8b516401-ec0e-45ae-a9fb-44d14ba6b91b",
   "metadata": {},
   "source": [
    "### Using the 1000 most variable genes with binarized expression for classification"
   ]
  },
  {
   "cell_type": "code",
   "execution_count": null,
   "id": "d6cce962-5a16-4dde-b408-09eb86538373",
   "metadata": {},
   "outputs": [],
   "source": [
    "library(scDHA)\n",
    "\n",
    "df = read.table(\"1000_variable_genes.csv\", sep=\",\", header= TRUE)\n",
    "df$X <- NULL\n",
    "df$X1 <- NULL\n",
    "df$X2 <- NULL\n",
    "df <- df[df$cls_id != \"CD4+ T Helper2\",]\n",
    "df <- df[df$cls_id != \"CD34+\",]"
   ]
  },
  {
   "cell_type": "code",
   "execution_count": null,
   "id": "d4f6aa54-f1bc-42c8-adc7-2159fd2e0b87",
   "metadata": {},
   "outputs": [],
   "source": [
    "X <- df[,1:1000]\n",
    "X <- as.matrix(X)\n",
    "Y <- df[,1001]\n",
    "X[X > 0] = 1 \n",
    "X[X <= 0] = 0"
   ]
  },
  {
   "cell_type": "code",
   "execution_count": null,
   "id": "1c998f1f-f718-47ef-988c-a38d763b8d93",
   "metadata": {},
   "outputs": [],
   "source": [
    "set.seed(1)\n",
    "idx <- sample.int(nrow(X), size = round(nrow(X)*0.80))\n",
    "train.x <- X[idx, ]; train.y <- Y[idx]\n",
    "test.x <- X[-idx, ]; test.y <- Y[-idx]"
   ]
  },
  {
   "cell_type": "code",
   "execution_count": null,
   "id": "c4bc08a9-a90f-40af-b9ca-37b0aa43b02a",
   "metadata": {},
   "outputs": [],
   "source": [
    "prediction <- scDHA.class(train = train.x, train.label = train.y, test = test.x)\n",
    "acc <- round(sum(test.y == prediction)/length(test.y), 2)\n",
    "print(paste0(\"Accuracy = \", acc))\n",
    "\n",
    "df_predictions <- data.frame(true = test.y, predicted = prediction)\n",
    "write.csv(x=df_predictions, file = \"predictions_scDHA.csv\")"
   ]
  },
  {
   "cell_type": "markdown",
   "id": "bffbff11-bec6-4e13-aa32-72267cd2b3bf",
   "metadata": {},
   "source": [
    "### Using gene sets identified by gene set variation analysis of each cell within the 68k PBMC dataset"
   ]
  },
  {
   "cell_type": "code",
   "execution_count": null,
   "id": "c13b6a43-235a-4942-8f1f-6a4cc554c4bc",
   "metadata": {},
   "outputs": [],
   "source": [
    "df = read.table(\"/.mounts/labs/reimandlab/private/users/mbayati/MBP1413/batch job gsva/ES_var_C7_68k.tsv\", sep=\"\\t\", header= TRUE)\n",
    "X <- df[,1:3006]\n",
    "X <- as.matrix(X)\n",
    "Y <- df[,3007]"
   ]
  },
  {
   "cell_type": "code",
   "execution_count": null,
   "id": "9d92775d-d05b-4edd-834d-0bc87061c1db",
   "metadata": {},
   "outputs": [],
   "source": [
    "set.seed(1)\n",
    "idx <- sample.int(nrow(X), size = round(nrow(X)*0.80))\n",
    "train.x <- X[idx, ]; train.y <- Y[idx]\n",
    "test.x <- X[-idx, ]; test.y <- Y[-idx]"
   ]
  },
  {
   "cell_type": "code",
   "execution_count": null,
   "id": "6dadbb93-863b-43c9-8ca3-63857711a8c3",
   "metadata": {},
   "outputs": [],
   "source": [
    "prediction <- scDHA.class(train = train.x, train.label = train.y, test = test.x)\n",
    "acc <- round(sum(test.y == prediction)/length(test.y), 2)\n",
    "print(paste0(\"Accuracy = \", acc))\n",
    "\n",
    "df_predictions <- data.frame(true = test.y, predicted = prediction)\n",
    "write.csv(x=df_predictions, file = \"predictions_scDHA_gs.csv\")\n"
   ]
  }
 ],
 "metadata": {
  "kernelspec": {
   "display_name": "R [conda env:myenv] *",
   "language": "R",
   "name": "conda-env-myenv-r"
  },
  "language_info": {
   "codemirror_mode": "r",
   "file_extension": ".r",
   "mimetype": "text/x-r-source",
   "name": "R",
   "pygments_lexer": "r",
   "version": "4.0.5"
  }
 },
 "nbformat": 4,
 "nbformat_minor": 5
}
