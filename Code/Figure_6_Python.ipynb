{
 "cells": [
  {
   "cell_type": "markdown",
   "id": "3dbb5734-bc15-464d-bb8f-61dccd9630b3",
   "metadata": {},
   "source": [
    "# Figure 6 Single-Cell Decomposition using Hierarchical Autoencoder (scDHA)"
   ]
  },
  {
   "cell_type": "markdown",
   "id": "855443ff-f016-42aa-b1f1-7c8afd5ddbdf",
   "metadata": {},
   "source": [
    "### Figure 6B Bar Graph"
   ]
  },
  {
   "cell_type": "code",
   "execution_count": null,
   "id": "3302946b-debb-4944-ac1a-7cd3c96f062d",
   "metadata": {},
   "outputs": [],
   "source": [
    "# scDHA performed on gene level data\n",
    "df_scDHA = pd.read_csv(\"predictions_scDHA.csv\", sep=\",\", header=0, index_col=0)\n",
    "Y_test = df_scDHA.true\n",
    "scDHA_pred = df_scDHA.predicted\n",
    "\n",
    "scDHA_performance = {\"precision\": [],\"recall\" : [], \"f1\" : [], \"accuracy\" : []}\n",
    "scDHA_performance[\"precision\"].append(precision_score(Y_test, scDHA_pred, average=\"macro\"))\n",
    "scDHA_performance[\"recall\"].append(recall_score(Y_test, scDHA_pred, average=\"macro\"))\n",
    "scDHA_performance[\"f1\"].append(f1_score(Y_test, scDHA_pred, average=\"macro\"))\n",
    "scDHA_performance[\"accuracy\"].append(accuracy_score(Y_test,scDHA_pred))"
   ]
  },
  {
   "cell_type": "code",
   "execution_count": null,
   "id": "73e867b8-dbc2-4762-84b4-608de3637901",
   "metadata": {},
   "outputs": [],
   "source": [
    "#scDHA performed on gene set data\n",
    "scDHA_gsets = pd.read_csv(\"predictions_scDHA_gs.csv\", sep=\",\", header=0, index_col=0)\n",
    "Y_test_gsets = scDHA_gsets.true\n",
    "scDHA_pred_gsets = scDHA_gsets.predicted\n",
    "\n",
    "scDHAgs_performance = {\"precision\": [],\"recall\" : [], \"f1\" : [], \"accuracy\" : []}\n",
    "scDHAgs_performance[\"precision\"].append(precision_score(Y_test_gsets, scDHA_pred_gsets, average=\"macro\"))\n",
    "scDHAgs_performance[\"recall\"].append(recall_score(Y_test_gsets, scDHA_pred_gsets, average=\"macro\"))\n",
    "scDHAgs_performance[\"f1\"].append(f1_score(Y_test_gsets, scDHA_pred_gsets, average=\"macro\"))\n",
    "scDHAgs_performance[\"accuracy\"].append(accuracy_score(Y_test_gsets,scDHA_pred_gsets))"
   ]
  },
  {
   "cell_type": "code",
   "execution_count": null,
   "id": "119c8c16-9346-458a-8aa6-b573da3b0636",
   "metadata": {},
   "outputs": [],
   "source": [
    "classification_df = pd.DataFrame({\"metric\": [\"Precision\",\"Recall\",\"F1\",\"Accuracy\"],\"scDHA\" : [np.mean(v) for k,v in scDHA_performance.items()],\n",
    "                                 \"scDHA_genesets\" : [np.mean(v) for k,v in scDHAgs_performance.items()]})\n",
    "print(classification_df)"
   ]
  },
  {
   "cell_type": "code",
   "execution_count": null,
   "id": "7cf028ad-209f-48e8-9872-12a567c6a7e3",
   "metadata": {},
   "outputs": [],
   "source": [
    "ind = np.arange(4)\n",
    "fig, ax = plt.subplots(figsize = (25, 10))\n",
    "\n",
    "scDHA_bar = ax.bar(ind, classification_df.scDHA,alpha=1, width = 0.2,capsize = 10, color = '#1f78b4', align = 'center')\n",
    "scDHAgs_bar = ax.bar(ind+0.2, classification_df.scDHA_genesets,alpha=1, width = 0.2,capsize = 10, color = '#33a02c', align = 'center')\n",
    "ax.set_ylabel(\"Model Performance\", size = 38)\n",
    "ax.set_ylim([0.50,1])\n",
    "ax.set_xlabel(\"Metric\", size = 38)\n",
    "ax.set_xticks(ind +0.1,labels = classification_df.metric)\n",
    "ax.set_xticklabels(classification_df.metric,rotation = 0)\n",
    "ax.tick_params(axis='both', labelsize=32)\n",
    "fig.suptitle('scDHA cell classification using genes vs gene sets', fontsize=38)\n",
    "ax.legend((scDHA_bar[0], scDHAgs_bar[0]), ('Genes', 'Gene Sets'),prop={'size': 22}, bbox_to_anchor=(1.23, 1), loc='upper right')\n",
    "ax.xaxis.labelpad = 20\n",
    "ax.yaxis.labelpad = 20\n",
    "ax.grid(color='black', linestyle='-', linewidth=0.7)\n",
    "ax.patch.set_edgecolor('black')  \n",
    "ax.patch.set_linewidth('2') \n",
    "ax.xaxis.grid(False)\n",
    "vis = ax.get_figure()\n",
    "vis.savefig(\"Fig6B.pdf\", bbox_inches='tight')"
   ]
  },
  {
   "cell_type": "markdown",
   "id": "ab58ff74-fc3b-4251-8783-742df31b47c7",
   "metadata": {},
   "source": [
    "### Figure 6C Confusion Matrices"
   ]
  },
  {
   "cell_type": "code",
   "execution_count": null,
   "id": "51d4008c-b2d8-42d9-8648-c4bfaa5d5058",
   "metadata": {},
   "outputs": [],
   "source": [
    "#Confusion matrix for gene level data\n",
    "matrix = confusion_matrix(df_scDHA.true,df_scDHA.predicted, labels=np.unique(df_scDHA.predicted))\n",
    "matrix = matrix/matrix.sum(axis=1, keepdims=True)*1\n",
    "df_matrix = pd.DataFrame(matrix)\n",
    "df_matrix.columns = np.unique(df_scDHA.predicted)\n",
    "df_matrix.index = np.unique(df_scDHA.predicted)\n",
    "\n",
    "sns.set(font_scale=0.65)\n",
    "ax = sns.heatmap(df_matrix,cmap =\"YlGnBu\",annot = True,vmin = 0, vmax = 1,linewidth=0.5,annot_kws={\"size\": 6})\n",
    "plt.show()\n",
    "vis = ax.get_figure()\n",
    "vis.savefig(\"confusionmtx_scDHAgenes.pdf\", bbox_inches='tight')"
   ]
  },
  {
   "cell_type": "code",
   "execution_count": null,
   "id": "09cfd36b-1e01-4acb-abef-2f7870184e17",
   "metadata": {},
   "outputs": [],
   "source": [
    "#Confusion matrix for gene sets data\n",
    "matrix = confusion_matrix(scDHA_gsets.true,scDHA_gsets.predicted, labels=np.unique(scDHA_gsets.predicted))\n",
    "matrix = matrix/matrix.sum(axis=1, keepdims=True)*1\n",
    "df_matrix = pd.DataFrame(matrix)\n",
    "df_matrix.columns = np.unique(scDHA_gsets.predicted)\n",
    "df_matrix.index = np.unique(scDHA_gsets.predicted)\n",
    "\n",
    "sns.set(font_scale=0.65)\n",
    "ax = sns.heatmap(df_matrix,cmap =\"YlGnBu\",annot = True,vmin = 0, vmax = 1,linewidth=0.5,annot_kws={\"size\": 6})\n",
    "plt.show()\n",
    "vis = ax.get_figure()\n",
    "vis.savefig(\"confusionmtx_scDHAgenesets.pdf\", bbox_inches='tight')"
   ]
  }
 ],
 "metadata": {
  "kernelspec": {
   "display_name": "Python [conda env:root]",
   "language": "python",
   "name": "conda-root-py"
  },
  "language_info": {
   "codemirror_mode": {
    "name": "ipython",
    "version": 3
   },
   "file_extension": ".py",
   "mimetype": "text/x-python",
   "name": "python",
   "nbconvert_exporter": "python",
   "pygments_lexer": "ipython3",
   "version": "3.8.8"
  }
 },
 "nbformat": 4,
 "nbformat_minor": 5
}
